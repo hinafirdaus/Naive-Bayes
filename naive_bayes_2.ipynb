{
 "cells": [
  {
   "cell_type": "code",
   "execution_count": 4,
   "metadata": {},
   "outputs": [
    {
     "name": "stdout",
     "output_type": "stream",
     "text": [
      "<class 'pandas.core.frame.DataFrame'>\n",
      "<class 'numpy.ndarray'>\n",
      "(150, 5)\n",
      "750\n",
      "     sepal_length  sepal_width  petal_length  petal_width         species\n",
      "145           6.7          3.0           5.2          2.3  Iris-virginica\n",
      "146           6.3          2.5           5.0          1.9  Iris-virginica\n",
      "147           6.5          3.0           5.2          2.0  Iris-virginica\n",
      "148           6.2          3.4           5.4          2.3  Iris-virginica\n",
      "149           5.9          3.0           5.1          1.8  Iris-virginica\n",
      "______________________________________________\n",
      "sepal_length\n",
      "sepal_width\n",
      "petal_length\n",
      "petal_width\n",
      "species\n",
      "<class 'numpy.ndarray'>\n",
      "<class 'str'>\n",
      "Iris-setosa\n",
      "____________\n",
      "<class 'str'>\n",
      "Iris-setosa\n",
      "____________\n",
      "<class 'str'>\n",
      "Iris-setosa\n",
      "____________\n",
      "<class 'str'>\n",
      "Iris-setosa\n",
      "____________\n",
      "<class 'str'>\n",
      "Iris-setosa\n",
      "____________\n",
      "<class 'str'>\n",
      "Iris-setosa\n",
      "____________\n",
      "<class 'str'>\n",
      "Iris-setosa\n",
      "____________\n",
      "<class 'str'>\n",
      "Iris-setosa\n",
      "____________\n"
     ]
    }
   ],
   "source": [
    "import numpy as np\n",
    "import matplotlib.pyplot as plt\n",
    "%matplotlib inline\n",
    "import pandas as pd\n",
    "\n",
    "dataset = pd.read_csv(\"F:\\dissertation\\python intel ML\\Intel-ML101_Class1\\data\\Iris_Data.csv\")\n",
    "print (type(dataset))\n",
    "\n",
    "datav= dataset.values\n",
    "print (type(datav))\n",
    "print (datav.shape)\n",
    "print (datav.size)\n",
    "#print dataset.columns\n",
    "\n",
    "print (dataset.tail(n=5))\n",
    "print (\"______________________________________________\")\n",
    "\n",
    "#read the dataset column using panda library and print them using the for loop\n",
    "cols = dataset.columns\n",
    "for i in cols:\n",
    "    print (i)\n",
    "\n",
    "#taking one feature species from the dataset and studying it    \n",
    "species = dataset.get('species') ## uses panda library to read the elements of the dataset\n",
    "species = np.array(species)  ## take the dataset from the pandas library and using get() method convert the library to numpy to get the type, size and other attributes of the array\n",
    "print (type(species))\n",
    "for sp in species [:8] :\n",
    "    print (type(sp))\n",
    "    print (sp)\n",
    "    print (\"____________\")\n",
    "    \n",
    "\n"
   ]
  },
  {
   "cell_type": "code",
   "execution_count": 14,
   "metadata": {},
   "outputs": [
    {
     "name": "stdout",
     "output_type": "stream",
     "text": [
      "<class 'numpy.ndarray'>\n",
      "float64\n",
      "5.1\n",
      "--------------------\n",
      "<class 'numpy.ndarray'>\n",
      "float64\n",
      "4.9\n",
      "--------------------\n",
      "<class 'numpy.ndarray'>\n",
      "float64\n",
      "4.7\n",
      "--------------------\n",
      "for speal width------------\n",
      "<class 'numpy.ndarray'>\n",
      "float64\n",
      "3.5\n",
      "---------------------\n",
      "<class 'numpy.ndarray'>\n",
      "float64\n",
      "3.0\n",
      "---------------------\n",
      "<class 'numpy.ndarray'>\n",
      "float64\n",
      "3.2\n",
      "---------------------\n"
     ]
    }
   ],
   "source": [
    "# get the attribute details\n",
    "sel = dataset.get('sepal_length')\n",
    "sel = np.array(sel)\n",
    "\n",
    "sew = dataset.get('sepal_width')\n",
    "sew = np.array(sew)\n",
    "\n",
    "print (\"for speal width------------\")  \n",
    "\n",
    "for sel1 in sel [:3] :\n",
    "    print (type(sel))\n",
    "    print (sel.dtype)\n",
    "    print (sel1)\n",
    "    print(\"--------------------\")\n",
    "\n",
    "print (\"for speal width------------\")    \n",
    "for sew1 in sew [:3] :\n",
    "    print (type(sew))\n",
    "    print (sew.dtype)\n",
    "    print (sew1)\n",
    "    print (\"---------------------\")\n"
   ]
  },
  {
   "cell_type": "code",
   "execution_count": null,
   "metadata": {},
   "outputs": [],
   "source": []
  },
  {
   "cell_type": "code",
   "execution_count": null,
   "metadata": {
    "collapsed": true
   },
   "outputs": [],
   "source": []
  }
 ],
 "metadata": {
  "kernelspec": {
   "display_name": "Python 3",
   "language": "python",
   "name": "python3"
  },
  "language_info": {
   "codemirror_mode": {
    "name": "ipython",
    "version": 3
   },
   "file_extension": ".py",
   "mimetype": "text/x-python",
   "name": "python",
   "nbconvert_exporter": "python",
   "pygments_lexer": "ipython3",
   "version": "3.6.3"
  }
 },
 "nbformat": 4,
 "nbformat_minor": 2
}
